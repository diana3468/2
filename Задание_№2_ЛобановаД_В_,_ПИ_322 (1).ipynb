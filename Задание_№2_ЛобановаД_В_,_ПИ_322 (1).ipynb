{
  "nbformat": 4,
  "nbformat_minor": 0,
  "metadata": {
    "colab": {
      "name": "Задание №2_ЛобановаД.В., ПИ-322",
      "provenance": [],
      "collapsed_sections": []
    },
    "kernelspec": {
      "name": "python3",
      "display_name": "Python 3"
    },
    "language_info": {
      "name": "python"
    }
  },
  "cells": [
    {
      "cell_type": "code",
      "execution_count": null,
      "metadata": {
        "id": "Pl4MW2q_mEtt"
      },
      "outputs": [],
      "source": [
        ""
      ]
    },
    {
      "cell_type": "markdown",
      "source": [
        "###  Формула нормального распределения: \n",
        "$\\frac{1}{\\sigma\\sqrt{2\\pi}}\\exp\\left(-\\frac{(x-\\mu)^2}{2\\sigma^2}\\right)$\n",
        "\n",
        "### <u> Греческий алфавит:<u> \n",
        "\n",
        "| Прописные  |Строчные                   |Название    |\n",
        "|:--------:  |:---------:                |:----------:|\n",
        "| A          | $\\alpha$                  |      альфа |\n",
        "|B           |$\\beta$                    |бета        |\n",
        "|$\\Gamma$    |$\\gamma$                   |гамма       |\n",
        "| $\\Delta$   |$\\delta$                   |дельта      |\n",
        "|E           |$\\epsilon$, $\\varepsilon$  |эпсилон     |\n",
        "|Z           |$\\zeta$                    |дзета       |\n",
        "|H           |$\\eta$                     |эта         |\n",
        "|$\\Theta$    |$\\theta$, $\\vartheta$      |тета        |\n",
        "|I           |$\\iota$                    |йота        |\n",
        "|K           |$\\kappa$, $\\varkappa$      |каппа       |\n",
        "|$\\Lambda$   |$\\lambda$                  |лямбда      |\n",
        "|M           |$\\mu$                      |мю          |\n",
        "|N           |$\\nu$                      |ню          |\n",
        "|$\\Xi$       |$\\xi$                      |кси         |\n",
        "|O           |o                          |омикрон     |\n",
        "|$\\Pi$       |$\\pi$                      |пи          |\n",
        "|P           |$\\rho$, $\\varrho$          |ро          |\n",
        "|$\\Sigma$    |$\\sigma$, $\\varsigma$      |сигма       |\n",
        "|T           |$\\tau$                     |тау         |\n",
        "|$\\Upsilon$  |$\\upsilon$                 |ипсилон     |\n",
        "|$\\Phi$      |$\\phi$, $\\varphi$          |фи          |\n",
        "|X           |$\\chi$                     |хи          |\n",
        "|$\\Psi$      |$\\psi$                     |пси         |\n",
        "|$\\Omega$    |$\\omega$                   |омега       |\n",
        "\n",
        "#заголовок первого уровня\n",
        "##заголовок второго уровня\n",
        "###заголовок третьего уровня "
      ],
      "metadata": {
        "id": "9BSdXinymFok"
      }
    }
  ]
}